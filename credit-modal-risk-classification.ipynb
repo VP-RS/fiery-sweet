{
 "cells": [
  {
   "cell_type": "code",
   "execution_count": 1,
   "id": "9c91ea9f",
   "metadata": {
    "execution": {
     "iopub.execute_input": "2023-04-13T12:20:32.398943Z",
     "iopub.status.busy": "2023-04-13T12:20:32.397580Z",
     "iopub.status.idle": "2023-04-13T12:20:32.471918Z",
     "shell.execute_reply": "2023-04-13T12:20:32.470721Z"
    },
    "papermill": {
     "duration": 0.087027,
     "end_time": "2023-04-13T12:20:32.475048",
     "exception": false,
     "start_time": "2023-04-13T12:20:32.388021",
     "status": "completed"
    },
    "tags": []
   },
   "outputs": [
    {
     "data": {
      "text/html": [
       "<div>\n",
       "<style scoped>\n",
       "    .dataframe tbody tr th:only-of-type {\n",
       "        vertical-align: middle;\n",
       "    }\n",
       "\n",
       "    .dataframe tbody tr th {\n",
       "        vertical-align: top;\n",
       "    }\n",
       "\n",
       "    .dataframe thead th {\n",
       "        text-align: right;\n",
       "    }\n",
       "</style>\n",
       "<table border=\"1\" class=\"dataframe\">\n",
       "  <thead>\n",
       "    <tr style=\"text-align: right;\">\n",
       "      <th></th>\n",
       "      <th>checking_status</th>\n",
       "      <th>duration</th>\n",
       "      <th>credit_history</th>\n",
       "      <th>purpose</th>\n",
       "      <th>credit_amount</th>\n",
       "      <th>savings_status</th>\n",
       "      <th>employment</th>\n",
       "      <th>installment_commitment</th>\n",
       "      <th>personal_status</th>\n",
       "      <th>other_parties</th>\n",
       "      <th>...</th>\n",
       "      <th>property_magnitude</th>\n",
       "      <th>age</th>\n",
       "      <th>other_payment_plans</th>\n",
       "      <th>housing</th>\n",
       "      <th>existing_credits</th>\n",
       "      <th>job</th>\n",
       "      <th>num_dependents</th>\n",
       "      <th>own_telephone</th>\n",
       "      <th>foreign_worker</th>\n",
       "      <th>class</th>\n",
       "    </tr>\n",
       "  </thead>\n",
       "  <tbody>\n",
       "    <tr>\n",
       "      <th>0</th>\n",
       "      <td>&lt;0</td>\n",
       "      <td>6.0</td>\n",
       "      <td>critical/other existing credit</td>\n",
       "      <td>radio/tv</td>\n",
       "      <td>1169.0</td>\n",
       "      <td>no known savings</td>\n",
       "      <td>&gt;=7</td>\n",
       "      <td>4.0</td>\n",
       "      <td>male single</td>\n",
       "      <td>none</td>\n",
       "      <td>...</td>\n",
       "      <td>real estate</td>\n",
       "      <td>67.0</td>\n",
       "      <td>none</td>\n",
       "      <td>own</td>\n",
       "      <td>2.0</td>\n",
       "      <td>skilled</td>\n",
       "      <td>1.0</td>\n",
       "      <td>yes</td>\n",
       "      <td>yes</td>\n",
       "      <td>good</td>\n",
       "    </tr>\n",
       "    <tr>\n",
       "      <th>1</th>\n",
       "      <td>0&lt;=X&lt;200</td>\n",
       "      <td>48.0</td>\n",
       "      <td>existing paid</td>\n",
       "      <td>radio/tv</td>\n",
       "      <td>5951.0</td>\n",
       "      <td>&lt;100</td>\n",
       "      <td>1&lt;=X&lt;4</td>\n",
       "      <td>2.0</td>\n",
       "      <td>female div/dep/mar</td>\n",
       "      <td>none</td>\n",
       "      <td>...</td>\n",
       "      <td>real estate</td>\n",
       "      <td>22.0</td>\n",
       "      <td>none</td>\n",
       "      <td>own</td>\n",
       "      <td>1.0</td>\n",
       "      <td>skilled</td>\n",
       "      <td>1.0</td>\n",
       "      <td>none</td>\n",
       "      <td>yes</td>\n",
       "      <td>bad</td>\n",
       "    </tr>\n",
       "    <tr>\n",
       "      <th>2</th>\n",
       "      <td>no checking</td>\n",
       "      <td>12.0</td>\n",
       "      <td>critical/other existing credit</td>\n",
       "      <td>education</td>\n",
       "      <td>2096.0</td>\n",
       "      <td>&lt;100</td>\n",
       "      <td>4&lt;=X&lt;7</td>\n",
       "      <td>2.0</td>\n",
       "      <td>male single</td>\n",
       "      <td>none</td>\n",
       "      <td>...</td>\n",
       "      <td>real estate</td>\n",
       "      <td>49.0</td>\n",
       "      <td>none</td>\n",
       "      <td>own</td>\n",
       "      <td>1.0</td>\n",
       "      <td>unskilled resident</td>\n",
       "      <td>2.0</td>\n",
       "      <td>none</td>\n",
       "      <td>yes</td>\n",
       "      <td>good</td>\n",
       "    </tr>\n",
       "    <tr>\n",
       "      <th>3</th>\n",
       "      <td>&lt;0</td>\n",
       "      <td>42.0</td>\n",
       "      <td>existing paid</td>\n",
       "      <td>furniture/equipment</td>\n",
       "      <td>7882.0</td>\n",
       "      <td>&lt;100</td>\n",
       "      <td>4&lt;=X&lt;7</td>\n",
       "      <td>2.0</td>\n",
       "      <td>male single</td>\n",
       "      <td>guarantor</td>\n",
       "      <td>...</td>\n",
       "      <td>life insurance</td>\n",
       "      <td>45.0</td>\n",
       "      <td>none</td>\n",
       "      <td>for free</td>\n",
       "      <td>1.0</td>\n",
       "      <td>skilled</td>\n",
       "      <td>2.0</td>\n",
       "      <td>none</td>\n",
       "      <td>yes</td>\n",
       "      <td>good</td>\n",
       "    </tr>\n",
       "    <tr>\n",
       "      <th>4</th>\n",
       "      <td>&lt;0</td>\n",
       "      <td>24.0</td>\n",
       "      <td>delayed previously</td>\n",
       "      <td>new car</td>\n",
       "      <td>4870.0</td>\n",
       "      <td>&lt;100</td>\n",
       "      <td>1&lt;=X&lt;4</td>\n",
       "      <td>3.0</td>\n",
       "      <td>male single</td>\n",
       "      <td>none</td>\n",
       "      <td>...</td>\n",
       "      <td>no known property</td>\n",
       "      <td>53.0</td>\n",
       "      <td>none</td>\n",
       "      <td>for free</td>\n",
       "      <td>2.0</td>\n",
       "      <td>skilled</td>\n",
       "      <td>2.0</td>\n",
       "      <td>none</td>\n",
       "      <td>yes</td>\n",
       "      <td>bad</td>\n",
       "    </tr>\n",
       "  </tbody>\n",
       "</table>\n",
       "<p>5 rows × 21 columns</p>\n",
       "</div>"
      ],
      "text/plain": [
       "  checking_status  duration                  credit_history  \\\n",
       "0              <0       6.0  critical/other existing credit   \n",
       "1        0<=X<200      48.0                   existing paid   \n",
       "2     no checking      12.0  critical/other existing credit   \n",
       "3              <0      42.0                   existing paid   \n",
       "4              <0      24.0              delayed previously   \n",
       "\n",
       "               purpose  credit_amount    savings_status employment  \\\n",
       "0             radio/tv         1169.0  no known savings        >=7   \n",
       "1             radio/tv         5951.0              <100     1<=X<4   \n",
       "2            education         2096.0              <100     4<=X<7   \n",
       "3  furniture/equipment         7882.0              <100     4<=X<7   \n",
       "4              new car         4870.0              <100     1<=X<4   \n",
       "\n",
       "   installment_commitment     personal_status other_parties  ...  \\\n",
       "0                     4.0         male single          none  ...   \n",
       "1                     2.0  female div/dep/mar          none  ...   \n",
       "2                     2.0         male single          none  ...   \n",
       "3                     2.0         male single     guarantor  ...   \n",
       "4                     3.0         male single          none  ...   \n",
       "\n",
       "   property_magnitude   age  other_payment_plans   housing existing_credits  \\\n",
       "0         real estate  67.0                 none       own              2.0   \n",
       "1         real estate  22.0                 none       own              1.0   \n",
       "2         real estate  49.0                 none       own              1.0   \n",
       "3      life insurance  45.0                 none  for free              1.0   \n",
       "4   no known property  53.0                 none  for free              2.0   \n",
       "\n",
       "                  job num_dependents  own_telephone foreign_worker class  \n",
       "0             skilled            1.0            yes            yes  good  \n",
       "1             skilled            1.0           none            yes   bad  \n",
       "2  unskilled resident            2.0           none            yes  good  \n",
       "3             skilled            2.0           none            yes  good  \n",
       "4             skilled            2.0           none            yes   bad  \n",
       "\n",
       "[5 rows x 21 columns]"
      ]
     },
     "execution_count": 1,
     "metadata": {},
     "output_type": "execute_result"
    }
   ],
   "source": [
    "import pandas as pd\n",
    "\n",
    "df = pd.read_csv('/kaggle/input/credit-risk-customers/credit_customers.csv')\n",
    "df.head()"
   ]
  },
  {
   "cell_type": "code",
   "execution_count": 2,
   "id": "76b690fd",
   "metadata": {
    "execution": {
     "iopub.execute_input": "2023-04-13T12:20:32.490619Z",
     "iopub.status.busy": "2023-04-13T12:20:32.489737Z",
     "iopub.status.idle": "2023-04-13T12:20:32.497586Z",
     "shell.execute_reply": "2023-04-13T12:20:32.496344Z"
    },
    "papermill": {
     "duration": 0.018634,
     "end_time": "2023-04-13T12:20:32.500345",
     "exception": false,
     "start_time": "2023-04-13T12:20:32.481711",
     "status": "completed"
    },
    "tags": []
   },
   "outputs": [
    {
     "data": {
      "text/plain": [
       "(1000, 21)"
      ]
     },
     "execution_count": 2,
     "metadata": {},
     "output_type": "execute_result"
    }
   ],
   "source": [
    "df.shape"
   ]
  },
  {
   "cell_type": "code",
   "execution_count": 3,
   "id": "746e3e13",
   "metadata": {
    "execution": {
     "iopub.execute_input": "2023-04-13T12:20:32.515342Z",
     "iopub.status.busy": "2023-04-13T12:20:32.514631Z",
     "iopub.status.idle": "2023-04-13T12:20:32.523038Z",
     "shell.execute_reply": "2023-04-13T12:20:32.522144Z"
    },
    "papermill": {
     "duration": 0.018439,
     "end_time": "2023-04-13T12:20:32.525284",
     "exception": false,
     "start_time": "2023-04-13T12:20:32.506845",
     "status": "completed"
    },
    "tags": []
   },
   "outputs": [
    {
     "data": {
      "text/plain": [
       "checking_status            object\n",
       "duration                  float64\n",
       "credit_history             object\n",
       "purpose                    object\n",
       "credit_amount             float64\n",
       "savings_status             object\n",
       "employment                 object\n",
       "installment_commitment    float64\n",
       "personal_status            object\n",
       "other_parties              object\n",
       "residence_since           float64\n",
       "property_magnitude         object\n",
       "age                       float64\n",
       "other_payment_plans        object\n",
       "housing                    object\n",
       "existing_credits          float64\n",
       "job                        object\n",
       "num_dependents            float64\n",
       "own_telephone              object\n",
       "foreign_worker             object\n",
       "class                      object\n",
       "dtype: object"
      ]
     },
     "execution_count": 3,
     "metadata": {},
     "output_type": "execute_result"
    }
   ],
   "source": [
    "df.dtypes"
   ]
  },
  {
   "cell_type": "code",
   "execution_count": 4,
   "id": "71c3add7",
   "metadata": {
    "execution": {
     "iopub.execute_input": "2023-04-13T12:20:32.540585Z",
     "iopub.status.busy": "2023-04-13T12:20:32.539838Z",
     "iopub.status.idle": "2023-04-13T12:20:32.560570Z",
     "shell.execute_reply": "2023-04-13T12:20:32.559125Z"
    },
    "papermill": {
     "duration": 0.031145,
     "end_time": "2023-04-13T12:20:32.563059",
     "exception": false,
     "start_time": "2023-04-13T12:20:32.531914",
     "status": "completed"
    },
    "tags": []
   },
   "outputs": [
    {
     "name": "stdout",
     "output_type": "stream",
     "text": [
      "S.no   :  1\n",
      "Name   :  checking_status\n",
      "Unique :  ['<0' '0<=X<200' 'no checking' '>=200']\n",
      "No     :  4\n",
      "\n",
      "S.no   :  2\n",
      "Name   :  credit_history\n",
      "Unique :  ['critical/other existing credit' 'existing paid' 'delayed previously'\n",
      " 'no credits/all paid' 'all paid']\n",
      "No     :  5\n",
      "\n",
      "S.no   :  3\n",
      "Name   :  purpose\n",
      "Unique :  ['radio/tv' 'education' 'furniture/equipment' 'new car' 'used car'\n",
      " 'business' 'domestic appliance' 'repairs' 'other' 'retraining']\n",
      "No     :  10\n",
      "\n",
      "S.no   :  4\n",
      "Name   :  savings_status\n",
      "Unique :  ['no known savings' '<100' '500<=X<1000' '>=1000' '100<=X<500']\n",
      "No     :  5\n",
      "\n",
      "S.no   :  5\n",
      "Name   :  employment\n",
      "Unique :  ['>=7' '1<=X<4' '4<=X<7' 'unemployed' '<1']\n",
      "No     :  5\n",
      "\n",
      "S.no   :  6\n",
      "Name   :  personal_status\n",
      "Unique :  ['male single' 'female div/dep/mar' 'male div/sep' 'male mar/wid']\n",
      "No     :  4\n",
      "\n",
      "S.no   :  7\n",
      "Name   :  other_parties\n",
      "Unique :  ['none' 'guarantor' 'co applicant']\n",
      "No     :  3\n",
      "\n",
      "S.no   :  8\n",
      "Name   :  property_magnitude\n",
      "Unique :  ['real estate' 'life insurance' 'no known property' 'car']\n",
      "No     :  4\n",
      "\n",
      "S.no   :  9\n",
      "Name   :  other_payment_plans\n",
      "Unique :  ['none' 'bank' 'stores']\n",
      "No     :  3\n",
      "\n",
      "S.no   :  10\n",
      "Name   :  housing\n",
      "Unique :  ['own' 'for free' 'rent']\n",
      "No     :  3\n",
      "\n",
      "S.no   :  11\n",
      "Name   :  job\n",
      "Unique :  ['skilled' 'unskilled resident' 'high qualif/self emp/mgmt'\n",
      " 'unemp/unskilled non res']\n",
      "No     :  4\n",
      "\n",
      "S.no   :  12\n",
      "Name   :  own_telephone\n",
      "Unique :  ['yes' 'none']\n",
      "No     :  2\n",
      "\n",
      "S.no   :  13\n",
      "Name   :  foreign_worker\n",
      "Unique :  ['yes' 'no']\n",
      "No     :  2\n",
      "\n",
      "S.no   :  14\n",
      "Name   :  class\n",
      "Unique :  ['good' 'bad']\n",
      "No     :  2\n",
      "\n"
     ]
    }
   ],
   "source": [
    "n = 1\n",
    "for (columnName, columnData) in df.iteritems():\n",
    "    if columnData.dtype == 'O':\n",
    "        print('S.no   : ', n)\n",
    "        print('Name   : ', columnName)\n",
    "        print('Unique : ', columnData.unique())\n",
    "        print('No     : ',len(columnData.unique()))\n",
    "        print()\n",
    "        n+=1\n",
    "    else:\n",
    "        pass"
   ]
  },
  {
   "cell_type": "code",
   "execution_count": 5,
   "id": "abf408aa",
   "metadata": {
    "execution": {
     "iopub.execute_input": "2023-04-13T12:20:32.579779Z",
     "iopub.status.busy": "2023-04-13T12:20:32.579359Z",
     "iopub.status.idle": "2023-04-13T12:20:32.591107Z",
     "shell.execute_reply": "2023-04-13T12:20:32.589789Z"
    },
    "papermill": {
     "duration": 0.023518,
     "end_time": "2023-04-13T12:20:32.593626",
     "exception": false,
     "start_time": "2023-04-13T12:20:32.570108",
     "status": "completed"
    },
    "tags": []
   },
   "outputs": [],
   "source": [
    "df[['sex', 'marriage']] = df.personal_status.str.split(\" \", expand = True)\n",
    "df.drop(['personal_status'], axis=1, inplace = True)"
   ]
  },
  {
   "cell_type": "code",
   "execution_count": 6,
   "id": "4730dddd",
   "metadata": {
    "execution": {
     "iopub.execute_input": "2023-04-13T12:20:32.609398Z",
     "iopub.status.busy": "2023-04-13T12:20:32.609030Z",
     "iopub.status.idle": "2023-04-13T12:20:32.638877Z",
     "shell.execute_reply": "2023-04-13T12:20:32.637645Z"
    },
    "papermill": {
     "duration": 0.040609,
     "end_time": "2023-04-13T12:20:32.641347",
     "exception": false,
     "start_time": "2023-04-13T12:20:32.600738",
     "status": "completed"
    },
    "tags": []
   },
   "outputs": [
    {
     "data": {
      "text/html": [
       "<div>\n",
       "<style scoped>\n",
       "    .dataframe tbody tr th:only-of-type {\n",
       "        vertical-align: middle;\n",
       "    }\n",
       "\n",
       "    .dataframe tbody tr th {\n",
       "        vertical-align: top;\n",
       "    }\n",
       "\n",
       "    .dataframe thead th {\n",
       "        text-align: right;\n",
       "    }\n",
       "</style>\n",
       "<table border=\"1\" class=\"dataframe\">\n",
       "  <thead>\n",
       "    <tr style=\"text-align: right;\">\n",
       "      <th></th>\n",
       "      <th>checking_status</th>\n",
       "      <th>duration</th>\n",
       "      <th>credit_history</th>\n",
       "      <th>purpose</th>\n",
       "      <th>credit_amount</th>\n",
       "      <th>savings_status</th>\n",
       "      <th>employment</th>\n",
       "      <th>installment_commitment</th>\n",
       "      <th>other_parties</th>\n",
       "      <th>residence_since</th>\n",
       "      <th>...</th>\n",
       "      <th>other_payment_plans</th>\n",
       "      <th>housing</th>\n",
       "      <th>existing_credits</th>\n",
       "      <th>job</th>\n",
       "      <th>num_dependents</th>\n",
       "      <th>own_telephone</th>\n",
       "      <th>foreign_worker</th>\n",
       "      <th>class</th>\n",
       "      <th>sex</th>\n",
       "      <th>marriage</th>\n",
       "    </tr>\n",
       "  </thead>\n",
       "  <tbody>\n",
       "    <tr>\n",
       "      <th>0</th>\n",
       "      <td>&lt;0</td>\n",
       "      <td>6.0</td>\n",
       "      <td>critical/other existing credit</td>\n",
       "      <td>radio/tv</td>\n",
       "      <td>1169.0</td>\n",
       "      <td>no known savings</td>\n",
       "      <td>&gt;=7</td>\n",
       "      <td>4.0</td>\n",
       "      <td>none</td>\n",
       "      <td>4.0</td>\n",
       "      <td>...</td>\n",
       "      <td>none</td>\n",
       "      <td>own</td>\n",
       "      <td>2.0</td>\n",
       "      <td>skilled</td>\n",
       "      <td>1.0</td>\n",
       "      <td>yes</td>\n",
       "      <td>yes</td>\n",
       "      <td>good</td>\n",
       "      <td>male</td>\n",
       "      <td>single</td>\n",
       "    </tr>\n",
       "    <tr>\n",
       "      <th>1</th>\n",
       "      <td>0&lt;=X&lt;200</td>\n",
       "      <td>48.0</td>\n",
       "      <td>existing paid</td>\n",
       "      <td>radio/tv</td>\n",
       "      <td>5951.0</td>\n",
       "      <td>&lt;100</td>\n",
       "      <td>1&lt;=X&lt;4</td>\n",
       "      <td>2.0</td>\n",
       "      <td>none</td>\n",
       "      <td>2.0</td>\n",
       "      <td>...</td>\n",
       "      <td>none</td>\n",
       "      <td>own</td>\n",
       "      <td>1.0</td>\n",
       "      <td>skilled</td>\n",
       "      <td>1.0</td>\n",
       "      <td>none</td>\n",
       "      <td>yes</td>\n",
       "      <td>bad</td>\n",
       "      <td>female</td>\n",
       "      <td>div/dep/mar</td>\n",
       "    </tr>\n",
       "    <tr>\n",
       "      <th>2</th>\n",
       "      <td>no checking</td>\n",
       "      <td>12.0</td>\n",
       "      <td>critical/other existing credit</td>\n",
       "      <td>education</td>\n",
       "      <td>2096.0</td>\n",
       "      <td>&lt;100</td>\n",
       "      <td>4&lt;=X&lt;7</td>\n",
       "      <td>2.0</td>\n",
       "      <td>none</td>\n",
       "      <td>3.0</td>\n",
       "      <td>...</td>\n",
       "      <td>none</td>\n",
       "      <td>own</td>\n",
       "      <td>1.0</td>\n",
       "      <td>unskilled resident</td>\n",
       "      <td>2.0</td>\n",
       "      <td>none</td>\n",
       "      <td>yes</td>\n",
       "      <td>good</td>\n",
       "      <td>male</td>\n",
       "      <td>single</td>\n",
       "    </tr>\n",
       "    <tr>\n",
       "      <th>3</th>\n",
       "      <td>&lt;0</td>\n",
       "      <td>42.0</td>\n",
       "      <td>existing paid</td>\n",
       "      <td>furniture/equipment</td>\n",
       "      <td>7882.0</td>\n",
       "      <td>&lt;100</td>\n",
       "      <td>4&lt;=X&lt;7</td>\n",
       "      <td>2.0</td>\n",
       "      <td>guarantor</td>\n",
       "      <td>4.0</td>\n",
       "      <td>...</td>\n",
       "      <td>none</td>\n",
       "      <td>for free</td>\n",
       "      <td>1.0</td>\n",
       "      <td>skilled</td>\n",
       "      <td>2.0</td>\n",
       "      <td>none</td>\n",
       "      <td>yes</td>\n",
       "      <td>good</td>\n",
       "      <td>male</td>\n",
       "      <td>single</td>\n",
       "    </tr>\n",
       "    <tr>\n",
       "      <th>4</th>\n",
       "      <td>&lt;0</td>\n",
       "      <td>24.0</td>\n",
       "      <td>delayed previously</td>\n",
       "      <td>new car</td>\n",
       "      <td>4870.0</td>\n",
       "      <td>&lt;100</td>\n",
       "      <td>1&lt;=X&lt;4</td>\n",
       "      <td>3.0</td>\n",
       "      <td>none</td>\n",
       "      <td>4.0</td>\n",
       "      <td>...</td>\n",
       "      <td>none</td>\n",
       "      <td>for free</td>\n",
       "      <td>2.0</td>\n",
       "      <td>skilled</td>\n",
       "      <td>2.0</td>\n",
       "      <td>none</td>\n",
       "      <td>yes</td>\n",
       "      <td>bad</td>\n",
       "      <td>male</td>\n",
       "      <td>single</td>\n",
       "    </tr>\n",
       "  </tbody>\n",
       "</table>\n",
       "<p>5 rows × 22 columns</p>\n",
       "</div>"
      ],
      "text/plain": [
       "  checking_status  duration                  credit_history  \\\n",
       "0              <0       6.0  critical/other existing credit   \n",
       "1        0<=X<200      48.0                   existing paid   \n",
       "2     no checking      12.0  critical/other existing credit   \n",
       "3              <0      42.0                   existing paid   \n",
       "4              <0      24.0              delayed previously   \n",
       "\n",
       "               purpose  credit_amount    savings_status employment  \\\n",
       "0             radio/tv         1169.0  no known savings        >=7   \n",
       "1             radio/tv         5951.0              <100     1<=X<4   \n",
       "2            education         2096.0              <100     4<=X<7   \n",
       "3  furniture/equipment         7882.0              <100     4<=X<7   \n",
       "4              new car         4870.0              <100     1<=X<4   \n",
       "\n",
       "   installment_commitment other_parties  residence_since  ...  \\\n",
       "0                     4.0          none              4.0  ...   \n",
       "1                     2.0          none              2.0  ...   \n",
       "2                     2.0          none              3.0  ...   \n",
       "3                     2.0     guarantor              4.0  ...   \n",
       "4                     3.0          none              4.0  ...   \n",
       "\n",
       "  other_payment_plans   housing existing_credits                 job  \\\n",
       "0                none       own              2.0             skilled   \n",
       "1                none       own              1.0             skilled   \n",
       "2                none       own              1.0  unskilled resident   \n",
       "3                none  for free              1.0             skilled   \n",
       "4                none  for free              2.0             skilled   \n",
       "\n",
       "   num_dependents own_telephone  foreign_worker class     sex     marriage  \n",
       "0             1.0           yes             yes  good    male       single  \n",
       "1             1.0          none             yes   bad  female  div/dep/mar  \n",
       "2             2.0          none             yes  good    male       single  \n",
       "3             2.0          none             yes  good    male       single  \n",
       "4             2.0          none             yes   bad    male       single  \n",
       "\n",
       "[5 rows x 22 columns]"
      ]
     },
     "execution_count": 6,
     "metadata": {},
     "output_type": "execute_result"
    }
   ],
   "source": [
    "df.head(5)"
   ]
  },
  {
   "cell_type": "code",
   "execution_count": 7,
   "id": "477afed7",
   "metadata": {
    "execution": {
     "iopub.execute_input": "2023-04-13T12:20:32.657757Z",
     "iopub.status.busy": "2023-04-13T12:20:32.657304Z",
     "iopub.status.idle": "2023-04-13T12:20:32.696173Z",
     "shell.execute_reply": "2023-04-13T12:20:32.694606Z"
    },
    "papermill": {
     "duration": 0.04988,
     "end_time": "2023-04-13T12:20:32.698786",
     "exception": false,
     "start_time": "2023-04-13T12:20:32.648906",
     "status": "completed"
    },
    "tags": []
   },
   "outputs": [],
   "source": [
    "df['checking_status'].replace(['no checking', '<0', '0<=X<200', '>=200'], [0,1,2,3], inplace = True)\n",
    "df['credit_history'].replace(['critical/other existing credit', 'delayed previously' , 'existing paid', 'no credits/all paid', 'all paid'], [0,1,2,2,2], inplace = True)\n",
    "df['purpose'].replace(['business', 'new car','used car', 'education', 'retraining', 'other','domestic appliance','radio/tv','furniture/equipment','repairs'], [5,5,4,4,3,3,3,2,2,1], inplace = True)\n",
    "df['savings_status'].replace(['no known savings', '<100','100<=X<500','500<=X<1000','>=1000'], [0,1,2,3,4], inplace = True)\n",
    "df['employment'].replace(['unemployed', '<1','1<=X<4','4<=X<7','>=7'], [0,1,2,3,4], inplace = True)\n",
    "df['other_parties'].replace(['none', 'co applicant', 'guarantor'], [0,1,2], inplace = True)\n",
    "df['property_magnitude'].replace(['no known property', 'life insurance', 'car', 'real estate'], [0,1,2,3], inplace = True)\n",
    "df['other_payment_plans'].replace(['none', 'stores', 'bank'], [0,1,1], inplace = True)\n",
    "df['housing'].replace(['for free', 'rent', 'own'], [0,1,2], inplace = True)\n",
    "df['job'].replace(['unemp/unskilled non res', 'unskilled resident', 'skilled', 'high qualif/self emp/mgmt'], [0,1,2,3], inplace = True)\n",
    "df['own_telephone'].replace(['yes', 'none'], [1,0], inplace = True)\n",
    "df['foreign_worker'].replace(['yes', 'no'], [1,0], inplace = True)\n",
    "df['class'].replace(['good', 'bad'], [1,0], inplace = True)\n",
    "df['sex'].replace(['male', 'female'], [1,0], inplace = True)\n",
    "df['marriage'].replace(['single', 'div/sep','div/dep/mar','mar/wid'], [0,0,1,1], inplace = True)"
   ]
  },
  {
   "cell_type": "code",
   "execution_count": 8,
   "id": "44132861",
   "metadata": {
    "execution": {
     "iopub.execute_input": "2023-04-13T12:20:32.715206Z",
     "iopub.status.busy": "2023-04-13T12:20:32.714793Z",
     "iopub.status.idle": "2023-04-13T12:20:32.739981Z",
     "shell.execute_reply": "2023-04-13T12:20:32.739081Z"
    },
    "papermill": {
     "duration": 0.036241,
     "end_time": "2023-04-13T12:20:32.742188",
     "exception": false,
     "start_time": "2023-04-13T12:20:32.705947",
     "status": "completed"
    },
    "tags": []
   },
   "outputs": [
    {
     "data": {
      "text/html": [
       "<div>\n",
       "<style scoped>\n",
       "    .dataframe tbody tr th:only-of-type {\n",
       "        vertical-align: middle;\n",
       "    }\n",
       "\n",
       "    .dataframe tbody tr th {\n",
       "        vertical-align: top;\n",
       "    }\n",
       "\n",
       "    .dataframe thead th {\n",
       "        text-align: right;\n",
       "    }\n",
       "</style>\n",
       "<table border=\"1\" class=\"dataframe\">\n",
       "  <thead>\n",
       "    <tr style=\"text-align: right;\">\n",
       "      <th></th>\n",
       "      <th>checking_status</th>\n",
       "      <th>duration</th>\n",
       "      <th>credit_history</th>\n",
       "      <th>purpose</th>\n",
       "      <th>credit_amount</th>\n",
       "      <th>savings_status</th>\n",
       "      <th>employment</th>\n",
       "      <th>installment_commitment</th>\n",
       "      <th>other_parties</th>\n",
       "      <th>residence_since</th>\n",
       "      <th>...</th>\n",
       "      <th>other_payment_plans</th>\n",
       "      <th>housing</th>\n",
       "      <th>existing_credits</th>\n",
       "      <th>job</th>\n",
       "      <th>num_dependents</th>\n",
       "      <th>own_telephone</th>\n",
       "      <th>foreign_worker</th>\n",
       "      <th>class</th>\n",
       "      <th>sex</th>\n",
       "      <th>marriage</th>\n",
       "    </tr>\n",
       "  </thead>\n",
       "  <tbody>\n",
       "    <tr>\n",
       "      <th>0</th>\n",
       "      <td>1</td>\n",
       "      <td>6.0</td>\n",
       "      <td>0</td>\n",
       "      <td>2</td>\n",
       "      <td>1169.0</td>\n",
       "      <td>0</td>\n",
       "      <td>4</td>\n",
       "      <td>4.0</td>\n",
       "      <td>0</td>\n",
       "      <td>4.0</td>\n",
       "      <td>...</td>\n",
       "      <td>0</td>\n",
       "      <td>2</td>\n",
       "      <td>2.0</td>\n",
       "      <td>2</td>\n",
       "      <td>1.0</td>\n",
       "      <td>1</td>\n",
       "      <td>1</td>\n",
       "      <td>1</td>\n",
       "      <td>1</td>\n",
       "      <td>0</td>\n",
       "    </tr>\n",
       "    <tr>\n",
       "      <th>1</th>\n",
       "      <td>2</td>\n",
       "      <td>48.0</td>\n",
       "      <td>2</td>\n",
       "      <td>2</td>\n",
       "      <td>5951.0</td>\n",
       "      <td>1</td>\n",
       "      <td>2</td>\n",
       "      <td>2.0</td>\n",
       "      <td>0</td>\n",
       "      <td>2.0</td>\n",
       "      <td>...</td>\n",
       "      <td>0</td>\n",
       "      <td>2</td>\n",
       "      <td>1.0</td>\n",
       "      <td>2</td>\n",
       "      <td>1.0</td>\n",
       "      <td>0</td>\n",
       "      <td>1</td>\n",
       "      <td>0</td>\n",
       "      <td>0</td>\n",
       "      <td>1</td>\n",
       "    </tr>\n",
       "    <tr>\n",
       "      <th>2</th>\n",
       "      <td>0</td>\n",
       "      <td>12.0</td>\n",
       "      <td>0</td>\n",
       "      <td>4</td>\n",
       "      <td>2096.0</td>\n",
       "      <td>1</td>\n",
       "      <td>3</td>\n",
       "      <td>2.0</td>\n",
       "      <td>0</td>\n",
       "      <td>3.0</td>\n",
       "      <td>...</td>\n",
       "      <td>0</td>\n",
       "      <td>2</td>\n",
       "      <td>1.0</td>\n",
       "      <td>1</td>\n",
       "      <td>2.0</td>\n",
       "      <td>0</td>\n",
       "      <td>1</td>\n",
       "      <td>1</td>\n",
       "      <td>1</td>\n",
       "      <td>0</td>\n",
       "    </tr>\n",
       "    <tr>\n",
       "      <th>3</th>\n",
       "      <td>1</td>\n",
       "      <td>42.0</td>\n",
       "      <td>2</td>\n",
       "      <td>2</td>\n",
       "      <td>7882.0</td>\n",
       "      <td>1</td>\n",
       "      <td>3</td>\n",
       "      <td>2.0</td>\n",
       "      <td>2</td>\n",
       "      <td>4.0</td>\n",
       "      <td>...</td>\n",
       "      <td>0</td>\n",
       "      <td>0</td>\n",
       "      <td>1.0</td>\n",
       "      <td>2</td>\n",
       "      <td>2.0</td>\n",
       "      <td>0</td>\n",
       "      <td>1</td>\n",
       "      <td>1</td>\n",
       "      <td>1</td>\n",
       "      <td>0</td>\n",
       "    </tr>\n",
       "    <tr>\n",
       "      <th>4</th>\n",
       "      <td>1</td>\n",
       "      <td>24.0</td>\n",
       "      <td>1</td>\n",
       "      <td>5</td>\n",
       "      <td>4870.0</td>\n",
       "      <td>1</td>\n",
       "      <td>2</td>\n",
       "      <td>3.0</td>\n",
       "      <td>0</td>\n",
       "      <td>4.0</td>\n",
       "      <td>...</td>\n",
       "      <td>0</td>\n",
       "      <td>0</td>\n",
       "      <td>2.0</td>\n",
       "      <td>2</td>\n",
       "      <td>2.0</td>\n",
       "      <td>0</td>\n",
       "      <td>1</td>\n",
       "      <td>0</td>\n",
       "      <td>1</td>\n",
       "      <td>0</td>\n",
       "    </tr>\n",
       "  </tbody>\n",
       "</table>\n",
       "<p>5 rows × 22 columns</p>\n",
       "</div>"
      ],
      "text/plain": [
       "   checking_status  duration  credit_history  purpose  credit_amount  \\\n",
       "0                1       6.0               0        2         1169.0   \n",
       "1                2      48.0               2        2         5951.0   \n",
       "2                0      12.0               0        4         2096.0   \n",
       "3                1      42.0               2        2         7882.0   \n",
       "4                1      24.0               1        5         4870.0   \n",
       "\n",
       "   savings_status  employment  installment_commitment  other_parties  \\\n",
       "0               0           4                     4.0              0   \n",
       "1               1           2                     2.0              0   \n",
       "2               1           3                     2.0              0   \n",
       "3               1           3                     2.0              2   \n",
       "4               1           2                     3.0              0   \n",
       "\n",
       "   residence_since  ...  other_payment_plans  housing  existing_credits  job  \\\n",
       "0              4.0  ...                    0        2               2.0    2   \n",
       "1              2.0  ...                    0        2               1.0    2   \n",
       "2              3.0  ...                    0        2               1.0    1   \n",
       "3              4.0  ...                    0        0               1.0    2   \n",
       "4              4.0  ...                    0        0               2.0    2   \n",
       "\n",
       "   num_dependents  own_telephone  foreign_worker  class  sex  marriage  \n",
       "0             1.0              1               1      1    1         0  \n",
       "1             1.0              0               1      0    0         1  \n",
       "2             2.0              0               1      1    1         0  \n",
       "3             2.0              0               1      1    1         0  \n",
       "4             2.0              0               1      0    1         0  \n",
       "\n",
       "[5 rows x 22 columns]"
      ]
     },
     "execution_count": 8,
     "metadata": {},
     "output_type": "execute_result"
    }
   ],
   "source": [
    "df.head()"
   ]
  },
  {
   "cell_type": "code",
   "execution_count": 9,
   "id": "f1c4ae77",
   "metadata": {
    "execution": {
     "iopub.execute_input": "2023-04-13T12:20:32.758498Z",
     "iopub.status.busy": "2023-04-13T12:20:32.758128Z",
     "iopub.status.idle": "2023-04-13T12:20:32.766494Z",
     "shell.execute_reply": "2023-04-13T12:20:32.765321Z"
    },
    "papermill": {
     "duration": 0.019228,
     "end_time": "2023-04-13T12:20:32.768849",
     "exception": false,
     "start_time": "2023-04-13T12:20:32.749621",
     "status": "completed"
    },
    "tags": []
   },
   "outputs": [
    {
     "data": {
      "text/plain": [
       "checking_status             int64\n",
       "duration                  float64\n",
       "credit_history              int64\n",
       "purpose                     int64\n",
       "credit_amount             float64\n",
       "savings_status              int64\n",
       "employment                  int64\n",
       "installment_commitment    float64\n",
       "other_parties               int64\n",
       "residence_since           float64\n",
       "property_magnitude          int64\n",
       "age                       float64\n",
       "other_payment_plans         int64\n",
       "housing                     int64\n",
       "existing_credits          float64\n",
       "job                         int64\n",
       "num_dependents            float64\n",
       "own_telephone               int64\n",
       "foreign_worker              int64\n",
       "class                       int64\n",
       "sex                         int64\n",
       "marriage                    int64\n",
       "dtype: object"
      ]
     },
     "execution_count": 9,
     "metadata": {},
     "output_type": "execute_result"
    }
   ],
   "source": [
    "df.dtypes"
   ]
  },
  {
   "cell_type": "code",
   "execution_count": 10,
   "id": "20d22cd9",
   "metadata": {
    "execution": {
     "iopub.execute_input": "2023-04-13T12:20:32.786486Z",
     "iopub.status.busy": "2023-04-13T12:20:32.786081Z",
     "iopub.status.idle": "2023-04-13T12:20:33.779798Z",
     "shell.execute_reply": "2023-04-13T12:20:33.778557Z"
    },
    "papermill": {
     "duration": 1.005994,
     "end_time": "2023-04-13T12:20:33.782566",
     "exception": false,
     "start_time": "2023-04-13T12:20:32.776572",
     "status": "completed"
    },
    "tags": []
   },
   "outputs": [],
   "source": [
    "from sklearn.preprocessing import StandardScaler\n",
    "X = df.drop(['class'], axis=1)\n",
    "y = df['class']\n",
    "std_scaler = StandardScaler()\n",
    "Xa = std_scaler.fit_transform(X)"
   ]
  },
  {
   "cell_type": "code",
   "execution_count": 11,
   "id": "59de56f5",
   "metadata": {
    "execution": {
     "iopub.execute_input": "2023-04-13T12:20:33.800168Z",
     "iopub.status.busy": "2023-04-13T12:20:33.799453Z",
     "iopub.status.idle": "2023-04-13T12:20:33.806064Z",
     "shell.execute_reply": "2023-04-13T12:20:33.804903Z"
    },
    "papermill": {
     "duration": 0.018774,
     "end_time": "2023-04-13T12:20:33.809010",
     "exception": false,
     "start_time": "2023-04-13T12:20:33.790236",
     "status": "completed"
    },
    "tags": []
   },
   "outputs": [],
   "source": [
    "X = pd.DataFrame(Xa, columns = X.columns)"
   ]
  },
  {
   "cell_type": "code",
   "execution_count": 12,
   "id": "8ee2085a",
   "metadata": {
    "execution": {
     "iopub.execute_input": "2023-04-13T12:20:33.827464Z",
     "iopub.status.busy": "2023-04-13T12:20:33.827089Z",
     "iopub.status.idle": "2023-04-13T12:20:33.833365Z",
     "shell.execute_reply": "2023-04-13T12:20:33.832271Z"
    },
    "papermill": {
     "duration": 0.017473,
     "end_time": "2023-04-13T12:20:33.835686",
     "exception": false,
     "start_time": "2023-04-13T12:20:33.818213",
     "status": "completed"
    },
    "tags": []
   },
   "outputs": [
    {
     "data": {
      "text/plain": [
       "Index(['checking_status', 'duration', 'credit_history', 'purpose',\n",
       "       'credit_amount', 'savings_status', 'employment',\n",
       "       'installment_commitment', 'other_parties', 'residence_since',\n",
       "       'property_magnitude', 'age', 'other_payment_plans', 'housing',\n",
       "       'existing_credits', 'job', 'num_dependents', 'own_telephone',\n",
       "       'foreign_worker', 'class', 'sex', 'marriage'],\n",
       "      dtype='object')"
      ]
     },
     "execution_count": 12,
     "metadata": {},
     "output_type": "execute_result"
    }
   ],
   "source": [
    "df.columns"
   ]
  },
  {
   "cell_type": "code",
   "execution_count": 13,
   "id": "a654fcf3",
   "metadata": {
    "execution": {
     "iopub.execute_input": "2023-04-13T12:20:33.852654Z",
     "iopub.status.busy": "2023-04-13T12:20:33.852213Z",
     "iopub.status.idle": "2023-04-13T12:20:33.925342Z",
     "shell.execute_reply": "2023-04-13T12:20:33.924075Z"
    },
    "papermill": {
     "duration": 0.08523,
     "end_time": "2023-04-13T12:20:33.928534",
     "exception": false,
     "start_time": "2023-04-13T12:20:33.843304",
     "status": "completed"
    },
    "tags": []
   },
   "outputs": [],
   "source": [
    "from sklearn.model_selection import train_test_split\n",
    "\n",
    "\n",
    "a,d,s,f = train_test_split(X,y)"
   ]
  },
  {
   "cell_type": "code",
   "execution_count": 14,
   "id": "f55e7103",
   "metadata": {
    "execution": {
     "iopub.execute_input": "2023-04-13T12:20:33.947033Z",
     "iopub.status.busy": "2023-04-13T12:20:33.946636Z",
     "iopub.status.idle": "2023-04-13T12:20:33.955839Z",
     "shell.execute_reply": "2023-04-13T12:20:33.954515Z"
    },
    "papermill": {
     "duration": 0.021199,
     "end_time": "2023-04-13T12:20:33.958293",
     "exception": false,
     "start_time": "2023-04-13T12:20:33.937094",
     "status": "completed"
    },
    "tags": []
   },
   "outputs": [
    {
     "data": {
      "text/plain": [
       "0      1\n",
       "1      0\n",
       "2      1\n",
       "3      1\n",
       "4      0\n",
       "      ..\n",
       "995    1\n",
       "996    1\n",
       "997    1\n",
       "998    0\n",
       "999    1\n",
       "Name: class, Length: 1000, dtype: int64"
      ]
     },
     "execution_count": 14,
     "metadata": {},
     "output_type": "execute_result"
    }
   ],
   "source": [
    "y"
   ]
  },
  {
   "cell_type": "code",
   "execution_count": 15,
   "id": "345c9d88",
   "metadata": {
    "execution": {
     "iopub.execute_input": "2023-04-13T12:20:33.977077Z",
     "iopub.status.busy": "2023-04-13T12:20:33.976360Z",
     "iopub.status.idle": "2023-04-13T12:20:33.984195Z",
     "shell.execute_reply": "2023-04-13T12:20:33.982641Z"
    },
    "papermill": {
     "duration": 0.019608,
     "end_time": "2023-04-13T12:20:33.986687",
     "exception": false,
     "start_time": "2023-04-13T12:20:33.967079",
     "status": "completed"
    },
    "tags": []
   },
   "outputs": [
    {
     "data": {
      "text/plain": [
       "(1000, 21)"
      ]
     },
     "execution_count": 15,
     "metadata": {},
     "output_type": "execute_result"
    }
   ],
   "source": [
    "X.shape"
   ]
  },
  {
   "cell_type": "code",
   "execution_count": 16,
   "id": "ab4ad722",
   "metadata": {
    "execution": {
     "iopub.execute_input": "2023-04-13T12:20:34.004376Z",
     "iopub.status.busy": "2023-04-13T12:20:34.003972Z",
     "iopub.status.idle": "2023-04-13T12:20:34.091954Z",
     "shell.execute_reply": "2023-04-13T12:20:34.090578Z"
    },
    "papermill": {
     "duration": 0.100197,
     "end_time": "2023-04-13T12:20:34.094853",
     "exception": false,
     "start_time": "2023-04-13T12:20:33.994656",
     "status": "completed"
    },
    "tags": []
   },
   "outputs": [],
   "source": [
    "from sklearn.linear_model import LogisticRegression\n",
    "model = LogisticRegression()"
   ]
  },
  {
   "cell_type": "code",
   "execution_count": 17,
   "id": "23d1b347",
   "metadata": {
    "execution": {
     "iopub.execute_input": "2023-04-13T12:20:34.112883Z",
     "iopub.status.busy": "2023-04-13T12:20:34.112422Z",
     "iopub.status.idle": "2023-04-13T12:20:34.119724Z",
     "shell.execute_reply": "2023-04-13T12:20:34.118123Z"
    },
    "papermill": {
     "duration": 0.0192,
     "end_time": "2023-04-13T12:20:34.122017",
     "exception": false,
     "start_time": "2023-04-13T12:20:34.102817",
     "status": "completed"
    },
    "tags": []
   },
   "outputs": [
    {
     "name": "stdout",
     "output_type": "stream",
     "text": [
      "(750, 21)\n",
      "(750,)\n",
      "(250, 21)\n",
      "(250,)\n"
     ]
    }
   ],
   "source": [
    "for i in [a,s,d,f]:\n",
    "    print(i.shape)"
   ]
  },
  {
   "cell_type": "code",
   "execution_count": 18,
   "id": "aee6ad0d",
   "metadata": {
    "execution": {
     "iopub.execute_input": "2023-04-13T12:20:34.140175Z",
     "iopub.status.busy": "2023-04-13T12:20:34.139769Z",
     "iopub.status.idle": "2023-04-13T12:20:34.168266Z",
     "shell.execute_reply": "2023-04-13T12:20:34.166825Z"
    },
    "papermill": {
     "duration": 0.041611,
     "end_time": "2023-04-13T12:20:34.172113",
     "exception": false,
     "start_time": "2023-04-13T12:20:34.130502",
     "status": "completed"
    },
    "tags": []
   },
   "outputs": [],
   "source": [
    "model.fit(a,s)\n",
    "g = model.predict(d)"
   ]
  },
  {
   "cell_type": "code",
   "execution_count": 19,
   "id": "af10347e",
   "metadata": {
    "execution": {
     "iopub.execute_input": "2023-04-13T12:20:34.201259Z",
     "iopub.status.busy": "2023-04-13T12:20:34.200676Z",
     "iopub.status.idle": "2023-04-13T12:20:34.221500Z",
     "shell.execute_reply": "2023-04-13T12:20:34.220240Z"
    },
    "papermill": {
     "duration": 0.039704,
     "end_time": "2023-04-13T12:20:34.225215",
     "exception": false,
     "start_time": "2023-04-13T12:20:34.185511",
     "status": "completed"
    },
    "tags": []
   },
   "outputs": [
    {
     "data": {
      "text/plain": [
       "'              precision    recall  f1-score   support\\n\\n           0       0.53      0.33      0.41        75\\n           1       0.75      0.87      0.81       175\\n\\n    accuracy                           0.71       250\\n   macro avg       0.64      0.60      0.61       250\\nweighted avg       0.69      0.71      0.69       250\\n'"
      ]
     },
     "execution_count": 19,
     "metadata": {},
     "output_type": "execute_result"
    }
   ],
   "source": [
    "from sklearn.metrics import classification_report\n",
    "classification_report(f,g)"
   ]
  },
  {
   "cell_type": "code",
   "execution_count": 20,
   "id": "4bff397f",
   "metadata": {
    "execution": {
     "iopub.execute_input": "2023-04-13T12:20:34.255027Z",
     "iopub.status.busy": "2023-04-13T12:20:34.254411Z",
     "iopub.status.idle": "2023-04-13T12:20:34.262772Z",
     "shell.execute_reply": "2023-04-13T12:20:34.261065Z"
    },
    "papermill": {
     "duration": 0.030812,
     "end_time": "2023-04-13T12:20:34.269849",
     "exception": false,
     "start_time": "2023-04-13T12:20:34.239037",
     "status": "completed"
    },
    "tags": []
   },
   "outputs": [],
   "source": [
    "def model_eval(m):\n",
    "    model = m\n",
    "    model.fit(a,s)\n",
    "    g = model.predict(d)\n",
    "    print(model)\n",
    "    print(classification_report(f,g))"
   ]
  },
  {
   "cell_type": "code",
   "execution_count": 21,
   "id": "eeaddd9c",
   "metadata": {
    "execution": {
     "iopub.execute_input": "2023-04-13T12:20:34.293018Z",
     "iopub.status.busy": "2023-04-13T12:20:34.292618Z",
     "iopub.status.idle": "2023-04-13T12:20:34.328924Z",
     "shell.execute_reply": "2023-04-13T12:20:34.327601Z"
    },
    "papermill": {
     "duration": 0.049132,
     "end_time": "2023-04-13T12:20:34.332247",
     "exception": false,
     "start_time": "2023-04-13T12:20:34.283115",
     "status": "completed"
    },
    "tags": []
   },
   "outputs": [
    {
     "name": "stdout",
     "output_type": "stream",
     "text": [
      "LogisticRegression()\n",
      "              precision    recall  f1-score   support\n",
      "\n",
      "           0       0.53      0.33      0.41        75\n",
      "           1       0.75      0.87      0.81       175\n",
      "\n",
      "    accuracy                           0.71       250\n",
      "   macro avg       0.64      0.60      0.61       250\n",
      "weighted avg       0.69      0.71      0.69       250\n",
      "\n"
     ]
    }
   ],
   "source": [
    "model_eval(LogisticRegression())"
   ]
  },
  {
   "cell_type": "code",
   "execution_count": 22,
   "id": "6a59b0c6",
   "metadata": {
    "execution": {
     "iopub.execute_input": "2023-04-13T12:20:34.363643Z",
     "iopub.status.busy": "2023-04-13T12:20:34.362275Z",
     "iopub.status.idle": "2023-04-13T12:20:34.641825Z",
     "shell.execute_reply": "2023-04-13T12:20:34.640903Z"
    },
    "papermill": {
     "duration": 0.297285,
     "end_time": "2023-04-13T12:20:34.644481",
     "exception": false,
     "start_time": "2023-04-13T12:20:34.347196",
     "status": "completed"
    },
    "tags": []
   },
   "outputs": [],
   "source": [
    "from sklearn.ensemble import RandomForestClassifier\n",
    "rf = RandomForestClassifier(n_estimators=100, max_features = 20)"
   ]
  },
  {
   "cell_type": "code",
   "execution_count": 23,
   "id": "aad351b2",
   "metadata": {
    "execution": {
     "iopub.execute_input": "2023-04-13T12:20:34.663594Z",
     "iopub.status.busy": "2023-04-13T12:20:34.663171Z",
     "iopub.status.idle": "2023-04-13T12:20:35.039094Z",
     "shell.execute_reply": "2023-04-13T12:20:35.037640Z"
    },
    "papermill": {
     "duration": 0.389138,
     "end_time": "2023-04-13T12:20:35.041912",
     "exception": false,
     "start_time": "2023-04-13T12:20:34.652774",
     "status": "completed"
    },
    "tags": []
   },
   "outputs": [
    {
     "name": "stdout",
     "output_type": "stream",
     "text": [
      "RandomForestClassifier(max_features=20)\n",
      "              precision    recall  f1-score   support\n",
      "\n",
      "           0       0.58      0.45      0.51        75\n",
      "           1       0.79      0.86      0.82       175\n",
      "\n",
      "    accuracy                           0.74       250\n",
      "   macro avg       0.68      0.66      0.66       250\n",
      "weighted avg       0.72      0.74      0.73       250\n",
      "\n"
     ]
    }
   ],
   "source": [
    "model_eval(rf)"
   ]
  },
  {
   "cell_type": "code",
   "execution_count": null,
   "id": "d00feeed",
   "metadata": {
    "papermill": {
     "duration": 0.008161,
     "end_time": "2023-04-13T12:20:35.059028",
     "exception": false,
     "start_time": "2023-04-13T12:20:35.050867",
     "status": "completed"
    },
    "tags": []
   },
   "outputs": [],
   "source": []
  }
 ],
 "metadata": {
  "kernelspec": {
   "display_name": "Python 3",
   "language": "python",
   "name": "python3"
  },
  "language_info": {
   "codemirror_mode": {
    "name": "ipython",
    "version": 3
   },
   "file_extension": ".py",
   "mimetype": "text/x-python",
   "name": "python",
   "nbconvert_exporter": "python",
   "pygments_lexer": "ipython3",
   "version": "3.7.12"
  },
  "papermill": {
   "default_parameters": {},
   "duration": 13.600633,
   "end_time": "2023-04-13T12:20:35.789081",
   "environment_variables": {},
   "exception": null,
   "input_path": "__notebook__.ipynb",
   "output_path": "__notebook__.ipynb",
   "parameters": {},
   "start_time": "2023-04-13T12:20:22.188448",
   "version": "2.4.0"
  }
 },
 "nbformat": 4,
 "nbformat_minor": 5
}
